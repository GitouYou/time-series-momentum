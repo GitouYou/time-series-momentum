{
 "cells": [
  {
   "cell_type": "code",
   "execution_count": 1,
   "metadata": {},
   "outputs": [],
   "source": [
    "import sys\n",
    "sys.path.append('../')"
   ]
  },
  {
   "cell_type": "code",
   "execution_count": 2,
   "metadata": {},
   "outputs": [
    {
     "name": "stderr",
     "output_type": "stream",
     "text": [
      "Using TensorFlow backend.\n"
     ]
    }
   ],
   "source": [
    "import keras\n",
    "import numpy as np\n",
    "import pandas as pd\n",
    "import tensorflow as tf\n",
    "import matplotlib.pyplot as plt"
   ]
  },
  {
   "cell_type": "code",
   "execution_count": 168,
   "metadata": {},
   "outputs": [],
   "source": [
    "from utils.backtest import calc_backtest\n",
    "from utils.data_loaders import load_clc_db_records\n",
    "from utils.features import construct_features_batch\n",
    "from utils.data_handling import merge_asset_data, split_by_date\n",
    "from utils.loss_functions import return_loss, sharpe_loss, return_loss_dummy, sharpe_loss_dummy"
   ]
  },
  {
   "cell_type": "code",
   "execution_count": 4,
   "metadata": {},
   "outputs": [],
   "source": [
    "config = tf.ConfigProto(device_count = {'GPU': 1 , 'CPU': 8}) \n",
    "sess = tf.Session(config=config) \n",
    "keras.backend.set_session(sess)"
   ]
  },
  {
   "cell_type": "code",
   "execution_count": 5,
   "metadata": {},
   "outputs": [],
   "source": [
    "SIGMA_TARGET = 0.15"
   ]
  },
  {
   "cell_type": "code",
   "execution_count": 6,
   "metadata": {},
   "outputs": [],
   "source": [
    "RAD_DATA_PATH = '../data/clc/rad/'\n",
    "FED_DATA_PATH = '../data/FEDFUNDS.csv'"
   ]
  },
  {
   "cell_type": "code",
   "execution_count": 7,
   "metadata": {},
   "outputs": [],
   "source": [
    "clc = load_clc_db_records(RAD_DATA_PATH, FED_DATA_PATH)"
   ]
  },
  {
   "cell_type": "code",
   "execution_count": 8,
   "metadata": {},
   "outputs": [
    {
     "name": "stderr",
     "output_type": "stream",
     "text": [
      "../utils/features.py:52: RuntimeWarning: invalid value encountered in log\n",
      "  df['Sigma_Norm'] = np.log(df['Sigma'] / df['Sigma'].rolling(181).mean())\n"
     ]
    }
   ],
   "source": [
    "clc = construct_features_batch(clc)\n",
    "for asset, df in clc.items():\n",
    "    df.set_index('Date', inplace=True)"
   ]
  },
  {
   "cell_type": "code",
   "execution_count": 84,
   "metadata": {},
   "outputs": [],
   "source": [
    "df = clc['SC']"
   ]
  },
  {
   "cell_type": "code",
   "execution_count": 85,
   "metadata": {},
   "outputs": [],
   "source": [
    "df = df['1990-1-1':'2020-1-1']"
   ]
  },
  {
   "cell_type": "code",
   "execution_count": 169,
   "metadata": {},
   "outputs": [
    {
     "data": {
      "text/plain": [
       "E[Return]                         0.068347\n",
       "E[Excess Return]                  0.041899\n",
       "Std[Return]                       0.185134\n",
       "Skew[Return]                      0.046243\n",
       "Exc.Kurtosis[Return]             11.106244\n",
       "Sharpe                            0.226317\n",
       "Max_Drawdown                     -0.628857\n",
       "Max_Drawdown_Duration (Years)    13.305556\n",
       "dtype: float64"
      ]
     },
     "execution_count": 169,
     "metadata": {},
     "output_type": "execute_result"
    }
   ],
   "source": [
    "calc_backtest(df.Returns_Daily, df.Excess_Returns_Daily, pd.Series(1, index=df.index))"
   ]
  },
  {
   "cell_type": "code",
   "execution_count": 164,
   "metadata": {},
   "outputs": [],
   "source": [
    "monthly_returns = ((1 + df.Excess_Returns_Daily).resample('M').prod() - 1).rename('Monthly_Returns')\n",
    "yearly_returns = ((1 + df.Excess_Returns_Daily).rolling(252).apply(np.prod, raw=True) - 1).rename('Yearly_Returns')\n",
    "vola = np.sqrt(252) * df['Sigma']\n",
    "sign_data = pd.DataFrame([monthly_returns, yearly_returns, vola]).T\n",
    "sign_data.dropna(inplace=True)\n",
    "sign_data['SIGN'] = 2 * (sign_data['Yearly_Returns'] >= 0) - 1\n",
    "sign_data['Next_Monthly_Returns'] = sign_data['Monthly_Returns'].shift(-1)\n",
    "sign_data['Strategy_Weight'] = sign_data['SIGN'] * SIGMA_TARGET / data['Sigma']\n",
    "sign_data['Performance'] = sign_data['Strategy_Weight'] * sign_data['Next_Monthly_Returns']"
   ]
  },
  {
   "cell_type": "code",
   "execution_count": 170,
   "metadata": {},
   "outputs": [
    {
     "data": {
      "text/plain": [
       "E[Return]                        0.067765\n",
       "E[Excess Return]                 0.050834\n",
       "Std[Return]                      0.163805\n",
       "Skew[Return]                    -0.594898\n",
       "Exc.Kurtosis[Return]             5.780940\n",
       "Sharpe                           0.310335\n",
       "Max_Drawdown                    -0.450400\n",
       "Max_Drawdown_Duration (Years)    3.507937\n",
       "dtype: float64"
      ]
     },
     "execution_count": 170,
     "metadata": {},
     "output_type": "execute_result"
    }
   ],
   "source": [
    "calc_backtest(df.Returns_Daily, df.Excess_Returns_Daily, sign_data.Strategy_Weight)"
   ]
  },
  {
   "cell_type": "code",
   "execution_count": null,
   "metadata": {},
   "outputs": [],
   "source": []
  },
  {
   "cell_type": "code",
   "execution_count": null,
   "metadata": {},
   "outputs": [],
   "source": []
  },
  {
   "cell_type": "code",
   "execution_count": null,
   "metadata": {},
   "outputs": [],
   "source": []
  },
  {
   "cell_type": "code",
   "execution_count": null,
   "metadata": {},
   "outputs": [],
   "source": []
  },
  {
   "cell_type": "code",
   "execution_count": null,
   "metadata": {},
   "outputs": [],
   "source": []
  },
  {
   "cell_type": "code",
   "execution_count": null,
   "metadata": {},
   "outputs": [],
   "source": []
  },
  {
   "cell_type": "code",
   "execution_count": null,
   "metadata": {},
   "outputs": [],
   "source": []
  },
  {
   "cell_type": "code",
   "execution_count": null,
   "metadata": {},
   "outputs": [],
   "source": []
  },
  {
   "cell_type": "code",
   "execution_count": null,
   "metadata": {},
   "outputs": [],
   "source": []
  }
 ],
 "metadata": {
  "kernelspec": {
   "display_name": "Python 3",
   "language": "python",
   "name": "python3"
  },
  "language_info": {
   "codemirror_mode": {
    "name": "ipython",
    "version": 3
   },
   "file_extension": ".py",
   "mimetype": "text/x-python",
   "name": "python",
   "nbconvert_exporter": "python",
   "pygments_lexer": "ipython3",
   "version": "3.6.8"
  }
 },
 "nbformat": 4,
 "nbformat_minor": 4
}
