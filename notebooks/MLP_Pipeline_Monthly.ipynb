{
 "cells": [
  {
   "cell_type": "code",
   "execution_count": 1,
   "metadata": {},
   "outputs": [],
   "source": [
    "import sys\n",
    "sys.path.append('../')"
   ]
  },
  {
   "cell_type": "code",
   "execution_count": 2,
   "metadata": {},
   "outputs": [
    {
     "name": "stderr",
     "output_type": "stream",
     "text": [
      "Using TensorFlow backend.\n"
     ]
    }
   ],
   "source": [
    "import keras\n",
    "import numpy as np\n",
    "import pandas as pd\n",
    "import tensorflow as tf\n",
    "from datetime import datetime\n",
    "import matplotlib.pyplot as plt\n",
    "from keras.models import Sequential\n",
    "from keras.layers import Dense, Dropout"
   ]
  },
  {
   "cell_type": "code",
   "execution_count": 3,
   "metadata": {},
   "outputs": [],
   "source": [
    "from utils.data_loaders import load_clc_db_records\n",
    "from utils.features import construct_features_batch\n",
    "from utils.data_handling import merge_asset_data, split_by_date\n",
    "from utils.loss_functions import return_loss, sharpe_loss, return_loss_dummy, sharpe_loss_dummy"
   ]
  },
  {
   "cell_type": "code",
   "execution_count": 4,
   "metadata": {},
   "outputs": [],
   "source": [
    "config = tf.ConfigProto(device_count = {'GPU': 1 , 'CPU': 8}) \n",
    "sess = tf.Session(config=config) \n",
    "keras.backend.set_session(sess)"
   ]
  },
  {
   "cell_type": "code",
   "execution_count": 5,
   "metadata": {},
   "outputs": [],
   "source": [
    "RAD_DATA_PATH = '../data/clc/rad/'\n",
    "FED_DATA_PATH = '../data/FEDFUNDS.csv'"
   ]
  },
  {
   "cell_type": "code",
   "execution_count": 6,
   "metadata": {},
   "outputs": [],
   "source": [
    "clc = load_clc_db_records(RAD_DATA_PATH, FED_DATA_PATH)"
   ]
  },
  {
   "cell_type": "code",
   "execution_count": 7,
   "metadata": {},
   "outputs": [],
   "source": [
    "assets_to_use = ['AN', 'BN', 'CC', 'CN', 'CT', 'DT', 'DX', 'EC', 'FB', 'FF', 'FN',\n",
    "       'FX', 'GI', 'GS', 'JN', 'JO', 'KC', 'KW', 'LB', 'LX', 'MD', 'MW',\n",
    "       'NK', 'NR', 'PA', 'SB', 'SN', 'SP', 'SS', 'TU', 'TY', 'US', 'W',\n",
    "       'ZA', 'ZB', 'ZC', 'ZF', 'ZG', 'ZH', 'ZI', 'ZK', 'ZL', 'ZM', 'ZN',\n",
    "       'ZO', 'ZP', 'ZR', 'ZS', 'ZT', 'ZU', 'ZW', 'ZZ']\n",
    "exclude_assets = ['FF', 'EC', 'TU', 'SS']\n",
    "assets_to_use = list(set(assets_to_use) - set(exclude_assets))\n",
    "\n",
    "def transform_to_monthly(df):\n",
    "    df = df.set_index('Date', drop=False)\n",
    "    df['Returns_Monthly'] = (1 + df['Returns_Daily']).resample('M').prod() - 1\n",
    "    df['Returns_Yearly'] = ((1 + df.Returns_Daily).rolling(252).apply(np.prod, raw=True) - 1)\n",
    "    df['SIGN'] = 2 * (df['Returns_Yearly'] >= 0) - 1\n",
    "    df.dropna(inplace=True)\n",
    "    df['Next_Returns_Monthly'] = df.Returns_Monthly.shift(-1)\n",
    "    return df"
   ]
  },
  {
   "cell_type": "code",
   "execution_count": 8,
   "metadata": {},
   "outputs": [
    {
     "name": "stderr",
     "output_type": "stream",
     "text": [
      "../utils/features.py:52: RuntimeWarning: invalid value encountered in log\n",
      "  df['Sigma_Norm'] = np.log(df['Sigma'] / df['Sigma'].rolling(181).mean())\n"
     ]
    }
   ],
   "source": [
    "clc = construct_features_batch(clc)"
   ]
  },
  {
   "cell_type": "code",
   "execution_count": 9,
   "metadata": {},
   "outputs": [],
   "source": [
    "temp_clc = {}\n",
    "for asset, df in clc.items():\n",
    "    if asset in assets_to_use:\n",
    "        temp_clc[asset] = transform_to_monthly(df)\n",
    "clc = temp_clc"
   ]
  },
  {
   "cell_type": "code",
   "execution_count": 10,
   "metadata": {},
   "outputs": [],
   "source": [
    "# clc['SP']"
   ]
  },
  {
   "cell_type": "code",
   "execution_count": 11,
   "metadata": {},
   "outputs": [],
   "source": [
    "df = merge_asset_data(clc, create_time_asset_index=True)\n",
    "df.dropna(inplace=True)"
   ]
  },
  {
   "cell_type": "code",
   "execution_count": 12,
   "metadata": {},
   "outputs": [],
   "source": [
    "df['SIGN_target'] = df['SIGN'] == 1"
   ]
  },
  {
   "cell_type": "code",
   "execution_count": 13,
   "metadata": {},
   "outputs": [],
   "source": [
    "date_breakpoints = [datetime(1995, 1, 1), datetime(2000, 1, 1), datetime(2005, 1, 1), datetime(2010, 1, 1), datetime(2015, 1, 1), datetime(2020, 1, 1)]\n",
    "data_set = split_by_date(df, date_breakpoints)"
   ]
  },
  {
   "cell_type": "code",
   "execution_count": 25,
   "metadata": {},
   "outputs": [],
   "source": [
    "epochs = 100\n",
    "batch_size = 2 ** 11\n",
    "feature_labels = [\n",
    "   'Norm_Returns_Daily', 'Norm_Returns_Monthly', 'Norm_Returns_Quarterly',\n",
    "   'Norm_Returns_Semiannually', 'Norm_Returns_Annually', 'MACD_8_24',\n",
    "   'MACD_16_48', 'MACD_32_96', 'Binary_MACD_8_24', 'Binary_MACD_16_48', 'Binary_MACD_32_96','Sigma_Norm', 'SIGN',\n",
    "]\n",
    "target_labels = ['Next_Returns_Monthly', 'Sigma']\n",
    "feature_labels = [\n",
    "   'Norm_Returns_Daily', 'Norm_Returns_Monthly', 'Norm_Returns_Quarterly',\n",
    "   'Norm_Returns_Semiannually', 'Norm_Returns_Annually', 'MACD_8_24',\n",
    "   'MACD_16_48', 'MACD_32_96', 'Sigma_Norm'\n",
    "]"
   ]
  },
  {
   "cell_type": "code",
   "execution_count": 26,
   "metadata": {},
   "outputs": [],
   "source": [
    "def create_mlp(input_shape):\n",
    "    model = Sequential()\n",
    "    model.add(Dense(input_shape, activation='sigmoid', kernel_initializer='ones', input_shape=(input_shape,)))\n",
    "#     model.add(Dropout(0.2))\n",
    "#     model.add(Dense(7, activation='relu', kernel_initializer='normal', bias_initializer='normal'))\n",
    "#     model.add(Dropout(0.3))\n",
    "    model.add(Dense(5, activation='relu', kernel_initializer='normal', bias_initializer='ones'))\n",
    "    model.add(Dropout(0.1))\n",
    "    model.add(Dense(3, activation='sigmoid', kernel_initializer='normal', bias_initializer='normal'))\n",
    "    model.add(Dropout(0.2))\n",
    "    model.add(Dense(1, activation='tanh', kernel_initializer='normal', bias_initializer='normal'))\n",
    "    return model"
   ]
  },
  {
   "cell_type": "code",
   "execution_count": 27,
   "metadata": {},
   "outputs": [],
   "source": [
    "import keras.backend as K\n",
    "# def sign_loss(target_data, size_prediction, sigma_tgt=0.15):\n",
    "#     \"\"\"Loss function driven by mean returns.\"\"\"\n",
    "\n",
    "#     # load parameters\n",
    "#     next_period_return = K.reshape(target_data[:, 0], (-1, 1))\n",
    "#     sigma_t = K.reshape(target_data[:, 1], (-1, 1))\n",
    "#     sign = K.reshape(target_data[:, 2], (-1, 1)) #.reshape((-1, 1))\n",
    "\n",
    "#     # calc mean_ret\n",
    "#     ret = size_prediction * sigma_tgt * next_period_return / (np.sqrt(252) * sigma_t)\n",
    "#     mean_ret = K.mean(ret)\n",
    "#     mean_ret = K.mean((size_prediction - sign) ** 2)\n",
    "        \n",
    "#     return mean_ret"
   ]
  },
  {
   "cell_type": "code",
   "execution_count": 28,
   "metadata": {},
   "outputs": [
    {
     "name": "stdout",
     "output_type": "stream",
     "text": [
      "_________________________________________________________________\n",
      "Layer (type)                 Output Shape              Param #   \n",
      "=================================================================\n",
      "dense_5 (Dense)              (None, 9)                 90        \n",
      "_________________________________________________________________\n",
      "dense_6 (Dense)              (None, 5)                 50        \n",
      "_________________________________________________________________\n",
      "dropout_3 (Dropout)          (None, 5)                 0         \n",
      "_________________________________________________________________\n",
      "dense_7 (Dense)              (None, 3)                 18        \n",
      "_________________________________________________________________\n",
      "dropout_4 (Dropout)          (None, 3)                 0         \n",
      "_________________________________________________________________\n",
      "dense_8 (Dense)              (None, 1)                 4         \n",
      "=================================================================\n",
      "Total params: 162\n",
      "Trainable params: 162\n",
      "Non-trainable params: 0\n",
      "_________________________________________________________________\n"
     ]
    }
   ],
   "source": [
    "from keras import optimizers\n",
    "\n",
    "target_labels = ['Next_Returns_Monthly', 'Sigma', 'SIGN']\n",
    "# target_labels = ['SIGN_target']\n",
    "\n",
    "model = create_mlp(len(feature_labels))\n",
    "model.summary()\n",
    "\n",
    "# opti = optimizers.Adagrad()\n",
    "# opti = optimizers.SGD(momentum=0.9, nesterov=True)\n",
    "opti = optimizers.Adam(lr=0.1, beta_1=0.9, beta_2=0.999, amsgrad=False)\n",
    "\n",
    "model.compile(\n",
    "    loss=sharpe_loss,\n",
    "    optimizer=opti\n",
    ")"
   ]
  },
  {
   "cell_type": "code",
   "execution_count": 29,
   "metadata": {},
   "outputs": [
    {
     "name": "stdout",
     "output_type": "stream",
     "text": [
      "Train on 1926 samples, validate on 1978 samples\n",
      "Epoch 1/100\n",
      "1926/1926 [==============================] - 0s 219us/step - loss: -0.7313 - val_loss: -1.3658\n",
      "Epoch 2/100\n",
      "1926/1926 [==============================] - 0s 4us/step - loss: -0.7435 - val_loss: -1.3806\n",
      "Epoch 3/100\n",
      "1926/1926 [==============================] - 0s 4us/step - loss: -0.7831 - val_loss: -1.3886\n",
      "Epoch 4/100\n",
      "1926/1926 [==============================] - 0s 5us/step - loss: -0.8682 - val_loss: -1.3978\n",
      "Epoch 5/100\n",
      "1926/1926 [==============================] - 0s 4us/step - loss: -0.9829 - val_loss: -1.4137\n",
      "Epoch 6/100\n",
      "1926/1926 [==============================] - 0s 4us/step - loss: -0.8345 - val_loss: -1.4376\n",
      "Epoch 7/100\n",
      "1926/1926 [==============================] - 0s 5us/step - loss: -1.1081 - val_loss: -1.4721\n",
      "Epoch 8/100\n",
      "1926/1926 [==============================] - 0s 5us/step - loss: -1.2056 - val_loss: -1.4977\n",
      "Epoch 9/100\n",
      "1926/1926 [==============================] - 0s 4us/step - loss: -1.4754 - val_loss: -1.1722\n",
      "Epoch 10/100\n",
      "1926/1926 [==============================] - 0s 5us/step - loss: -1.0686 - val_loss: -1.3024\n",
      "Epoch 11/100\n",
      "1926/1926 [==============================] - 0s 5us/step - loss: -1.5415 - val_loss: -1.4154\n",
      "Epoch 12/100\n",
      "1926/1926 [==============================] - 0s 4us/step - loss: -1.5933 - val_loss: -1.4805\n",
      "Epoch 13/100\n",
      "1926/1926 [==============================] - 0s 5us/step - loss: -1.5808 - val_loss: -1.5361\n",
      "Epoch 14/100\n",
      "1926/1926 [==============================] - 0s 4us/step - loss: -1.7945 - val_loss: -1.5723\n",
      "Epoch 15/100\n",
      "1926/1926 [==============================] - 0s 5us/step - loss: -1.7935 - val_loss: -1.5888\n",
      "Epoch 16/100\n",
      "1926/1926 [==============================] - 0s 5us/step - loss: -2.0306 - val_loss: -1.5719\n",
      "Epoch 17/100\n",
      "1926/1926 [==============================] - 0s 4us/step - loss: -1.6445 - val_loss: -1.5257\n",
      "Epoch 18/100\n",
      "1926/1926 [==============================] - 0s 6us/step - loss: -1.9129 - val_loss: -1.4813\n",
      "Epoch 19/100\n",
      "1926/1926 [==============================] - 0s 5us/step - loss: -1.8718 - val_loss: -1.4455\n",
      "Epoch 20/100\n",
      "1926/1926 [==============================] - 0s 4us/step - loss: -2.1641 - val_loss: -1.4322\n",
      "Epoch 21/100\n",
      "1926/1926 [==============================] - 0s 4us/step - loss: -1.7278 - val_loss: -1.4478\n",
      "Epoch 22/100\n",
      "1926/1926 [==============================] - 0s 5us/step - loss: -2.1334 - val_loss: -1.4720\n",
      "Epoch 23/100\n",
      "1926/1926 [==============================] - 0s 5us/step - loss: -1.7893 - val_loss: -1.5216\n",
      "Epoch 24/100\n",
      "1926/1926 [==============================] - 0s 6us/step - loss: -1.9619 - val_loss: -1.5678\n",
      "Epoch 25/100\n",
      "1926/1926 [==============================] - 0s 4us/step - loss: -1.7635 - val_loss: -1.6020\n",
      "Epoch 26/100\n",
      "1926/1926 [==============================] - 0s 3us/step - loss: -2.1636 - val_loss: -1.6193\n",
      "Epoch 27/100\n",
      "1926/1926 [==============================] - 0s 6us/step - loss: -2.1248 - val_loss: -1.6283\n",
      "Epoch 28/100\n",
      "1926/1926 [==============================] - 0s 4us/step - loss: -2.0528 - val_loss: -1.6183\n",
      "Epoch 29/100\n",
      "1926/1926 [==============================] - 0s 6us/step - loss: -1.8712 - val_loss: -1.6054\n",
      "Epoch 30/100\n",
      "1926/1926 [==============================] - 0s 6us/step - loss: -2.1086 - val_loss: -1.5800\n",
      "Epoch 31/100\n",
      "1926/1926 [==============================] - 0s 5us/step - loss: -1.9746 - val_loss: -1.5506\n",
      "Epoch 32/100\n",
      "1926/1926 [==============================] - 0s 4us/step - loss: -2.1555 - val_loss: -1.5265\n",
      "Epoch 33/100\n",
      "1926/1926 [==============================] - 0s 6us/step - loss: -1.9569 - val_loss: -1.5136\n",
      "Epoch 34/100\n",
      "1926/1926 [==============================] - 0s 5us/step - loss: -1.8092 - val_loss: -1.5060\n",
      "Epoch 35/100\n",
      "1926/1926 [==============================] - 0s 6us/step - loss: -2.1079 - val_loss: -1.5079\n",
      "Epoch 36/100\n",
      "1926/1926 [==============================] - 0s 4us/step - loss: -1.9897 - val_loss: -1.5286\n",
      "Epoch 37/100\n",
      "1926/1926 [==============================] - 0s 6us/step - loss: -1.9281 - val_loss: -1.5580\n"
     ]
    }
   ],
   "source": [
    "from sklearn.preprocessing import StandardScaler\n",
    "from keras.callbacks import EarlyStopping, ModelCheckpoint, Callback\n",
    "from keras.utils import to_categorical\n",
    "\n",
    "temp_series = pd.DataFrame()\n",
    "for data_idx, data_series in enumerate(data_set):\n",
    "    \n",
    "    epoch_start = data_series.Date_Col.min()\n",
    "    \n",
    "    # no validation set --> break\n",
    "    if data_idx == len(data_set) - 1: break\n",
    "    val_series = data_set[data_idx + 1]\n",
    "    \n",
    "    # concat previous data\n",
    "    if temp_series.shape[0] > 0:  \n",
    "        data_series = pd.concat([data_series, temp_series])\n",
    "    temp_series = data_series\n",
    "    \n",
    "    # construct features and targets\n",
    "#     scaler = StandardScaler()\n",
    "#     scaler.fit(data_series[feature_labels].values)\n",
    "#     X = scaler.transform(data_series[feature_labels].values)\n",
    "    X = data_series[feature_labels].values\n",
    "    y = data_series[target_labels].values\n",
    "#     X_val = scaler.transform(val_series[feature_labels].values)\n",
    "\n",
    "    X_val = val_series[feature_labels].values\n",
    "    y_val = val_series[target_labels].values\n",
    "    \n",
    "#     print(X.shape, y.shape)\n",
    "#     print(returns_loss(y, 0.5 * np.ones(X.shape[0])))\n",
    "    \n",
    "    earlyStopping = EarlyStopping(monitor='val_loss', patience=10, verbose=0, mode='min')\n",
    "    mcp_save = ModelCheckpoint('../models/overnight_best_mlp_{}.hdf5'.format(epoch_start), save_best_only=True, monitor='val_loss', mode='min')\n",
    "    \n",
    "    history = model.fit(\n",
    "        X, y,\n",
    "        batch_size=batch_size,\n",
    "        epochs=epochs,\n",
    "        verbose=1,\n",
    "        validation_data=(X_val, y_val),\n",
    "        shuffle=False,\n",
    "        callbacks=[mcp_save, earlyStopping]\n",
    "    )\n",
    "    break"
   ]
  },
  {
   "cell_type": "code",
   "execution_count": 30,
   "metadata": {},
   "outputs": [],
   "source": [
    "preds = model.predict(X_val)"
   ]
  },
  {
   "cell_type": "code",
   "execution_count": 31,
   "metadata": {},
   "outputs": [
    {
     "data": {
      "text/plain": [
       "(array([ 844.,   22.,    2.,    6.,    9.,    5.,    3.,    4.,    4.,\n",
       "        1079.]),\n",
       " array([-0.44466373, -0.31780353, -0.19094335, -0.06408316,  0.06277703,\n",
       "         0.18963723,  0.31649742,  0.44335762,  0.5702178 ,  0.697078  ,\n",
       "         0.8239382 ], dtype=float32),\n",
       " <a list of 10 Patch objects>)"
      ]
     },
     "execution_count": 31,
     "metadata": {},
     "output_type": "execute_result"
    },
    {
     "data": {
      "image/png": "[encoded data removed]",
      "text/plain": [
       "<Figure size 432x288 with 1 Axes>"
      ]
     },
     "metadata": {
      "needs_background": "light"
     },
     "output_type": "display_data"
    }
   ],
   "source": [
    "plt.hist(preds)"
   ]
  },
  {
   "cell_type": "code",
   "execution_count": 32,
   "metadata": {},
   "outputs": [],
   "source": [
    "from utils.backtest import calc_single_asset_backtest\n",
    "backtest_results = {}\n",
    "for asset, sub_df in df.groupby('Asset_Col'):\n",
    "    sub_df = sub_df.set_index('Date_Col', drop=False)\n",
    "    sub_df = sub_df['1995-1-1':'2000-1-1']\n",
    "    signal = pd.Series(model.predict(sub_df[feature_labels].values).reshape(-1), index=sub_df['Date_Col'])\n",
    "    positions = signal * 0.15 / sub_df['Sigma']\n",
    "    positions = positions.ewm(span=21).mean()\n",
    "    positions = positions.shift(1)\n",
    "    backtest_results[asset] = calc_single_asset_backtest(sub_df.Returns_Daily, sub_df.Excess_Returns_Daily, positions)\n",
    "#     break"
   ]
  },
  {
   "cell_type": "code",
   "execution_count": 33,
   "metadata": {},
   "outputs": [
    {
     "data": {
      "text/plain": [
       "Date_Col\n",
       "1995-01-31         NaN\n",
       "1995-02-28   -4.241306\n",
       "1995-03-31   -4.702351\n",
       "1995-05-31   -4.635872\n",
       "1995-06-30   -4.488657\n",
       "1995-07-31   -1.325452\n",
       "1995-08-31    0.794683\n",
       "1995-10-31    2.405283\n",
       "1995-11-30    3.929185\n",
       "1996-01-31    5.038527\n",
       "1996-02-29    4.571092\n",
       "1996-04-30    5.415372\n",
       "1996-05-31    5.925174\n",
       "1996-07-31    6.340871\n",
       "1996-09-30    6.607510\n",
       "1996-10-31    7.074728\n",
       "1996-12-31    7.338870\n",
       "1997-01-31    7.751087\n",
       "1997-02-28    8.265338\n",
       "1997-03-31    8.717987\n",
       "1997-04-30    8.796674\n",
       "1997-06-30    9.035088\n",
       "1997-07-31    9.308361\n",
       "1997-09-30    9.645332\n",
       "1997-10-31    8.086962\n",
       "1997-12-31    6.706899\n",
       "1998-03-31    5.280476\n",
       "1998-04-30    4.315240\n",
       "1998-06-30    3.421569\n",
       "1998-07-31    2.664377\n",
       "1998-08-31    1.978490\n",
       "1998-09-30    1.474770\n",
       "1998-11-30    1.013434\n",
       "1998-12-31    0.650426\n",
       "1999-03-31    0.400402\n",
       "1999-04-30    0.131585\n",
       "1999-06-30    0.674615\n",
       "1999-08-31    0.307953\n",
       "1999-09-30    0.001115\n",
       "1999-11-30    0.499793\n",
       "dtype: float64"
      ]
     },
     "execution_count": 33,
     "metadata": {},
     "output_type": "execute_result"
    }
   ],
   "source": [
    "positions"
   ]
  },
  {
   "cell_type": "code",
   "execution_count": 34,
   "metadata": {},
   "outputs": [],
   "source": [
    "backtest_df = pd.DataFrame(backtest_results).T"
   ]
  },
  {
   "cell_type": "code",
   "execution_count": 35,
   "metadata": {},
   "outputs": [
    {
     "data": {
      "text/plain": [
       "<matplotlib.collections.LineCollection at 0x7f1aec17d0f0>"
      ]
     },
     "execution_count": 35,
     "metadata": {},
     "output_type": "execute_result"
    },
    {
     "data": {
      "image/png": "[encoded data removed]",
      "text/plain": [
       "<Figure size 648x216 with 1 Axes>"
      ]
     },
     "metadata": {
      "needs_background": "light"
     },
     "output_type": "display_data"
    }
   ],
   "source": [
    "plt.figure(figsize=(9, 3))\n",
    "backtest_df.Sharpe.plot('bar')\n",
    "plt.ylim(-1.5, 1.5)\n",
    "plt.hlines(0, -10, 90)"
   ]
  },
  {
   "cell_type": "code",
   "execution_count": 292,
   "metadata": {},
   "outputs": [
    {
     "data": {
      "text/plain": [
       "<matplotlib.collections.LineCollection at 0x7f90dedcf908>"
      ]
     },
     "execution_count": 292,
     "metadata": {},
     "output_type": "execute_result"
    },
    {
     "data": {
      "image/png": "[encoded data removed]",
      "text/plain": [
       "<Figure size 648x216 with 1 Axes>"
      ]
     },
     "metadata": {
      "needs_background": "light"
     },
     "output_type": "display_data"
    }
   ],
   "source": [
    "plt.figure(figsize=(9, 3))\n",
    "backtest_df.Sharpe.plot('bar')\n",
    "plt.ylim(-1.5, 1.5)\n",
    "plt.hlines(0, -10, 90)"
   ]
  },
  {
   "cell_type": "code",
   "execution_count": null,
   "metadata": {},
   "outputs": [],
   "source": []
  }
 ],
 "metadata": {
  "kernelspec": {
   "display_name": "Python 3",
   "language": "python",
   "name": "python3"
  },
  "language_info": {
   "codemirror_mode": {
    "name": "ipython",
    "version": 3
   },
   "file_extension": ".py",
   "mimetype": "text/x-python",
   "name": "python",
   "nbconvert_exporter": "python",
   "pygments_lexer": "ipython3",
   "version": "3.6.8"
  }
 },
 "nbformat": 4,
 "nbformat_minor": 4
}
