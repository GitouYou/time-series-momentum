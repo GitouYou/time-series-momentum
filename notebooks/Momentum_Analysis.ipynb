{
 "cells": [
  {
   "cell_type": "code",
   "execution_count": 1,
   "metadata": {},
   "outputs": [],
   "source": [
    "import sys\n",
    "sys.path.append('../')"
   ]
  },
  {
   "cell_type": "code",
   "execution_count": 2,
   "metadata": {},
   "outputs": [],
   "source": [
    "import numpy as np\n",
    "import pandas as pd\n",
    "from tqdm import tqdm\n",
    "import statsmodels.api as sm\n",
    "import matplotlib.pyplot as plt"
   ]
  },
  {
   "cell_type": "code",
   "execution_count": 3,
   "metadata": {},
   "outputs": [
    {
     "name": "stderr",
     "output_type": "stream",
     "text": [
      "Using TensorFlow backend.\n"
     ]
    }
   ],
   "source": [
    "from utils.backtest import calc_single_asset_backtest\n",
    "from utils.data_loaders import load_clc_db_records\n",
    "from utils.features import construct_features_batch\n",
    "from utils.data_handling import merge_asset_data, split_by_date\n",
    "from utils.loss_functions import return_loss, sharpe_loss, return_loss_dummy, sharpe_loss_dummy"
   ]
  },
  {
   "cell_type": "code",
   "execution_count": 4,
   "metadata": {},
   "outputs": [],
   "source": [
    "SIGMA_TARGET = 0.15"
   ]
  },
  {
   "cell_type": "code",
   "execution_count": 5,
   "metadata": {},
   "outputs": [],
   "source": [
    "RAD_DATA_PATH = '../data/clc/rad/'\n",
    "FED_DATA_PATH = '../data/FEDFUNDS.csv'"
   ]
  },
  {
   "cell_type": "code",
   "execution_count": 6,
   "metadata": {},
   "outputs": [],
   "source": [
    "clc = load_clc_db_records(RAD_DATA_PATH, FED_DATA_PATH)"
   ]
  },
  {
   "cell_type": "code",
   "execution_count": 7,
   "metadata": {},
   "outputs": [],
   "source": [
    "assets_to_use = ['AN', 'BN', 'CC', 'CN', 'CT', 'DT', 'DX', 'EC', 'FB', 'FF', 'FN',\n",
    "       'FX', 'GI', 'GS', 'JN', 'JO', 'KC', 'KW', 'LB', 'LX', 'MD', 'MW',\n",
    "       'NK', 'NR', 'PA', 'SB', 'SN', 'SP', 'SS', 'TU', 'TY', 'US', 'W',\n",
    "       'ZA', 'ZB', 'ZC', 'ZF', 'ZG', 'ZH', 'ZI', 'ZK', 'ZL', 'ZM', 'ZN',\n",
    "       'ZO', 'ZP', 'ZR', 'ZS', 'ZT', 'ZU', 'ZW', 'ZZ']\n",
    "exclude_assets = ['FF', 'EC', 'TU', 'SS']\n",
    "assets_to_use = list(set(assets_to_use) - set(exclude_assets))\n",
    "\n",
    "temp_clc = {}\n",
    "for asset, df in clc.items():\n",
    "    if asset in assets_to_use:\n",
    "        temp_clc[asset] = df\n",
    "clc = temp_clc"
   ]
  },
  {
   "cell_type": "code",
   "execution_count": null,
   "metadata": {},
   "outputs": [],
   "source": []
  },
  {
   "cell_type": "code",
   "execution_count": 8,
   "metadata": {},
   "outputs": [
    {
     "name": "stderr",
     "output_type": "stream",
     "text": [
      "../utils/features.py:52: RuntimeWarning: invalid value encountered in log\n",
      "  df['Sigma_Norm'] = np.log(df['Sigma'] / df['Sigma'].rolling(181).mean())\n"
     ]
    }
   ],
   "source": [
    "clc = construct_features_batch(clc)\n",
    "for asset, df in clc.items():\n",
    "    df.set_index('Date', inplace=True)"
   ]
  },
  {
   "cell_type": "code",
   "execution_count": null,
   "metadata": {},
   "outputs": [],
   "source": []
  },
  {
   "cell_type": "code",
   "execution_count": 9,
   "metadata": {},
   "outputs": [],
   "source": [
    "# df = clc['SC']"
   ]
  },
  {
   "cell_type": "code",
   "execution_count": null,
   "metadata": {},
   "outputs": [],
   "source": []
  },
  {
   "cell_type": "code",
   "execution_count": 10,
   "metadata": {},
   "outputs": [],
   "source": [
    "def perform_monthly_lag_return_regression(df, month_lag=1, verbose=False):\n",
    "    monthly_returns = ((1 + df.Returns_Daily).resample('M').prod() - 1).rename('Monthly_Returns')\n",
    "    monthly_sigma = np.sqrt((df.Returns_Daily ** 2).resample('M').sum()).rename('Monthly_Sigma')\n",
    "    norm_lag_return = monthly_returns.shift(-1) / monthly_sigma\n",
    "    next_norm_lag_return = norm_lag_return.shift(-month_lag)\n",
    "    reg_df = pd.DataFrame([norm_lag_return, next_norm_lag_return], index=['norm_returns', 'next_norm_returns']).T\n",
    "    reg_df.dropna(inplace=True)\n",
    "    X = reg_df['norm_returns']\n",
    "    y = reg_df['next_norm_returns']\n",
    "    X = sm.add_constant(X)\n",
    "    model = sm.OLS(y, X)\n",
    "    results = model.fit(cov_type='HC3')\n",
    "    if verbose:\n",
    "        print(results.summary())\n",
    "    return results.pvalues[-1]\n",
    "\n",
    "def perform_monthly_lag_return_regression_all_data(clc, month_lag=[1], verbose=False):\n",
    "    reg_dfs = {}\n",
    "    for asset, df in clc.items():\n",
    "        monthly_returns = ((1 + df.Returns_Daily).resample('M').prod() - 1).rename('Monthly_Returns')\n",
    "        df['Parkinson_Volatility'] = np.sqrt(252 * (1 / (4 * np.log(2))) * (np.log(df['High'] / df['Low']) ** 2)) # np.sqrt((df.Returns_Daily ** 2).resample('M').sum()).rename('Monthly_Sigma')\n",
    "        monthly_sigma = np.sqrt(21) * df['Parkinson_Volatility'].resample('M').mean()\n",
    "        norm_lag_return = monthly_returns.shift(-1) / monthly_sigma\n",
    "        lag_data = []\n",
    "        for lag in month_lag:\n",
    "            lag_data.append(norm_lag_return.shift(-lag))\n",
    "        reg_df = pd.DataFrame([norm_lag_return] + lag_data, index=['norm_returns'] + ['lag_' + str(lag) for lag in month_lag]).T\n",
    "        reg_df.dropna(inplace=True)\n",
    "        reg_dfs[asset] = reg_df\n",
    "    reg_dfs = [df for asset, df in reg_dfs.items()]\n",
    "    reg_df = pd.concat(reg_dfs, ignore_index=True)\n",
    "    reg_df.replace([np.inf, -np.inf], np.nan, inplace=True)\n",
    "    reg_df.dropna(inplace=True)\n",
    "    X = reg_df['norm_returns']\n",
    "    X = sm.add_constant(X)\n",
    "    result_collection = {}\n",
    "    for lag in tqdm(month_lag):\n",
    "        y = reg_df['lag_' + str(lag)]\n",
    "        model = sm.OLS(y, X)\n",
    "        results = model.fit(cov_type='HC3')\n",
    "        result_collection[lag] = {'pvalue': results.pvalues[-1], 'tvalue': results.tvalues[-1]}\n",
    "        if verbose:\n",
    "            print(results.summary())\n",
    "    return result_collection\n",
    "\n",
    "def perform_monthly_lag_return_regression_by_asset(clc, month_lag=[1], verbose=False):\n",
    "    asset_collection = {}\n",
    "    for asset, df in tqdm(clc.items()):\n",
    "        monthly_returns = ((1 + df.Returns_Daily).resample('M').prod() - 1).rename('Monthly_Returns')\n",
    "        df['Parkinson_Volatility'] = np.sqrt(252 * (1 / (4 * np.log(2))) * (np.log(df['High'] / df['Low']) ** 2)) # np.sqrt((df.Returns_Daily ** 2).resample('M').sum()).rename('Monthly_Sigma')\n",
    "        monthly_sigma = np.sqrt(21) * df['Parkinson_Volatility'].resample('M').mean()\n",
    "        norm_lag_return = monthly_returns.shift(-1) / monthly_sigma\n",
    "        lag_data = []\n",
    "        for lag in month_lag:\n",
    "            lag_data.append(norm_lag_return.shift(-lag))\n",
    "        reg_df = pd.DataFrame([norm_lag_return] + lag_data, index=['norm_returns'] + ['lag_' + str(lag) for lag in month_lag]).T\n",
    "        reg_df.replace([np.inf, -np.inf], np.nan, inplace=True)\n",
    "        reg_df.dropna(inplace=True)\n",
    "        X = reg_df['norm_returns']\n",
    "        X = sm.add_constant(X)\n",
    "        result_collection = {}\n",
    "        for lag in month_lag:\n",
    "            y = reg_df['lag_' + str(lag)]\n",
    "            model = sm.OLS(y, X)\n",
    "            results = model.fit(cov_type='HC3')\n",
    "            result_collection[lag] = {'pvalue': results.pvalues[-1], 'tvalue': results.tvalues[-1]}\n",
    "        asset_collection[asset] = result_collection\n",
    "    return asset_collection"
   ]
  },
  {
   "cell_type": "code",
   "execution_count": 11,
   "metadata": {},
   "outputs": [
    {
     "name": "stderr",
     "output_type": "stream",
     "text": [
      "/home/maxlamberti/anaconda3/envs/AI_ENV/lib/python3.6/site-packages/numpy/core/fromnumeric.py:2389: FutureWarning: Method .ptp is deprecated and will be removed in a future version. Use numpy.ptp instead.\n",
      "  return ptp(axis=axis, out=out, **kwargs)\n",
      "100%|██████████| 35/35 [00:57<00:00,  1.63s/it]\n"
     ]
    }
   ],
   "source": [
    "# perform_monthly_lag_return_regression(df, month_lag=8, verbose=True)\n",
    "batch_results = perform_monthly_lag_return_regression_all_data(clc, month_lag=list(range(1, 36)))"
   ]
  },
  {
   "cell_type": "code",
   "execution_count": 12,
   "metadata": {},
   "outputs": [
    {
     "name": "stderr",
     "output_type": "stream",
     "text": [
      "100%|██████████| 48/48 [00:05<00:00,  8.37it/s]\n"
     ]
    }
   ],
   "source": [
    "single_asset_results = perform_monthly_lag_return_regression_by_asset(clc, month_lag=list(range(1, 36)))"
   ]
  },
  {
   "cell_type": "code",
   "execution_count": 16,
   "metadata": {},
   "outputs": [
    {
     "data": {
      "text/plain": [
       "[<matplotlib.lines.Line2D at 0x7ff03c93a4a8>]"
      ]
     },
     "execution_count": 16,
     "metadata": {},
     "output_type": "execute_result"
    },
    {
     "data": {
      "image/png": "[encoded data removed]",
      "text/plain": [
       "<Figure size 432x288 with 1 Axes>"
      ]
     },
     "metadata": {
      "needs_background": "light"
     },
     "output_type": "display_data"
    }
   ],
   "source": [
    "from collections import Counter\n",
    "\n",
    "counts = Counter(lag_count)\n",
    "vals = [k for k, v in counts.items()]\n",
    "occurances = [v for k, v in counts.items()]\n",
    "plt.plot(vals, occurances, 'o')"
   ]
  },
  {
   "cell_type": "code",
   "execution_count": 15,
   "metadata": {},
   "outputs": [
    {
     "name": "stdout",
     "output_type": "stream",
     "text": [
      "ZM\n",
      "6\n",
      "\n",
      "US\n",
      "8\n",
      "\n",
      "ZK\n",
      "8\n",
      "\n",
      "ZN\n",
      "6\n",
      "\n",
      "TY\n",
      "6\n",
      "\n",
      "FB\n",
      "7\n",
      "\n",
      "PA\n",
      "10\n",
      "\n",
      "CN\n",
      "9\n",
      "\n",
      "FN\n",
      "8\n",
      "\n",
      "ZL\n",
      "9\n",
      "\n",
      "ZS\n",
      "7\n",
      "\n",
      "NR\n",
      "6\n",
      "\n",
      "KC\n",
      "10\n",
      "\n",
      "CC\n",
      "7\n",
      "\n",
      "FX\n",
      "8\n",
      "\n",
      "KW\n",
      "11\n",
      "\n",
      "LX\n",
      "5\n",
      "\n",
      "ZH\n",
      "7\n",
      "\n",
      "ZW\n",
      "11\n",
      "\n",
      "AN\n",
      "8\n",
      "\n",
      "BN\n",
      "8\n",
      "\n",
      "ZC\n",
      "5\n",
      "\n",
      "ZP\n",
      "9\n",
      "\n",
      "MD\n",
      "6\n",
      "\n",
      "JN\n",
      "9\n",
      "\n",
      "ZT\n",
      "9\n",
      "\n",
      "W\n",
      "9\n",
      "\n",
      "ZU\n",
      "6\n",
      "\n",
      "ZR\n",
      "6\n",
      "\n",
      "ZB\n",
      "5\n",
      "\n",
      "ZO\n",
      "6\n",
      "\n",
      "SB\n",
      "9\n",
      "\n",
      "GS\n",
      "4\n",
      "\n",
      "GI\n",
      "7\n",
      "\n",
      "ZF\n",
      "10\n",
      "\n",
      "CT\n",
      "8\n",
      "\n",
      "DT\n",
      "7\n",
      "\n",
      "ZA\n",
      "8\n",
      "\n",
      "JO\n",
      "5\n",
      "\n",
      "ZZ\n",
      "10\n",
      "\n",
      "SN\n",
      "9\n",
      "\n",
      "ZI\n",
      "7\n",
      "\n",
      "DX\n",
      "8\n",
      "\n",
      "ZG\n",
      "10\n",
      "\n",
      "LB\n",
      "11\n",
      "\n",
      "MW\n",
      "11\n",
      "\n",
      "NK\n",
      "4\n",
      "\n",
      "SP\n",
      "8\n",
      "\n"
     ]
    }
   ],
   "source": [
    "lag_count = []\n",
    "for asset, result in single_asset_results.items():\n",
    "#     pvals_asset = [val['pvalue'] for k, val in result.items()]\n",
    "    tvals_asset = np.array([val['tvalue'] for k, val in result.items()])\n",
    "    print(asset)\n",
    "    print(np.sum(tvals_asset[:12] > 0))\n",
    "    print()\n",
    "    lag_count.append(np.sum(tvals_asset[:12] > 0))\n",
    "# #     plt.bar(list(range(1, 36)), tvals_asset)\n",
    "# #     plt.title(asset)\n",
    "# #     plt.show()"
   ]
  },
  {
   "cell_type": "code",
   "execution_count": 86,
   "metadata": {},
   "outputs": [
    {
     "data": {
      "text/plain": [
       "{1: {'pvalue': 0.18929323186364455, 'tvalue': 1.3126727851152515},\n",
       " 2: {'pvalue': 0.40400780387207735, 'tvalue': -0.8344848804700722},\n",
       " 3: {'pvalue': 0.26692991770021035, 'tvalue': 1.110160390623028},\n",
       " 4: {'pvalue': 0.2084408879455648, 'tvalue': 1.2578641580197323},\n",
       " 5: {'pvalue': 0.08742438059766168, 'tvalue': 1.7091434512275054},\n",
       " 6: {'pvalue': 0.3544372074151684, 'tvalue': 0.9260168811420162},\n",
       " 7: {'pvalue': 0.17120416551860063, 'tvalue': -1.3683448267886185},\n",
       " 8: {'pvalue': 0.7000573428716771, 'tvalue': 0.38524306066956227},\n",
       " 9: {'pvalue': 0.3026898040512537, 'tvalue': 1.0306823504517175},\n",
       " 10: {'pvalue': 0.01134697212402389, 'tvalue': 2.531827737656707},\n",
       " 11: {'pvalue': 0.26851273583651003, 'tvalue': 1.1064940548736106},\n",
       " 12: {'pvalue': 0.0022856444449116725, 'tvalue': -3.0503636386043858},\n",
       " 13: {'pvalue': 0.25369681404994004, 'tvalue': -1.1414160853420894},\n",
       " 14: {'pvalue': 0.6753829779608708, 'tvalue': -0.4187717154393375},\n",
       " 15: {'pvalue': 0.00537324956527532, 'tvalue': -2.7837617006543667},\n",
       " 16: {'pvalue': 0.3080880574204159, 'tvalue': -1.0192420723470577},\n",
       " 17: {'pvalue': 0.04026769197592865, 'tvalue': -2.0509923475812313},\n",
       " 18: {'pvalue': 0.9163130424900673, 'tvalue': -0.10507910097531213},\n",
       " 19: {'pvalue': 0.16985954068696751, 'tvalue': -1.372655270737128},\n",
       " 20: {'pvalue': 0.0743632478888386, 'tvalue': 1.7843719376104004},\n",
       " 21: {'pvalue': 0.00031496086551773033, 'tvalue': -3.6026736433311393},\n",
       " 22: {'pvalue': 0.47610131269447953, 'tvalue': 0.7125870739570719},\n",
       " 23: {'pvalue': 0.023553775359063774, 'tvalue': -2.264330820077106},\n",
       " 24: {'pvalue': 0.0004156289534255702, 'tvalue': -3.5299558912670803},\n",
       " 25: {'pvalue': 0.31505791719797394, 'tvalue': -1.0046655597187977},\n",
       " 26: {'pvalue': 0.3250312816030342, 'tvalue': -0.9841713263502404},\n",
       " 27: {'pvalue': 0.008494761908341258, 'tvalue': -2.6317449016754266},\n",
       " 28: {'pvalue': 0.08358570768866146, 'tvalue': -1.7302495010021863},\n",
       " 29: {'pvalue': 0.0628962681495867, 'tvalue': -1.8599240785277604},\n",
       " 30: {'pvalue': 0.43029497260396854, 'tvalue': -0.7886869918847362},\n",
       " 31: {'pvalue': 0.012865562475516035, 'tvalue': -2.4874691130694413},\n",
       " 32: {'pvalue': 0.7068682793133539, 'tvalue': 0.3760653958536341},\n",
       " 33: {'pvalue': 0.8193594584204914, 'tvalue': -0.2283689083095459},\n",
       " 34: {'pvalue': 0.37821545084923136, 'tvalue': 0.8811891500262607},\n",
       " 35: {'pvalue': 0.6745986460239352, 'tvalue': -0.41984505856552706}}"
      ]
     },
     "execution_count": 86,
     "metadata": {},
     "output_type": "execute_result"
    }
   ],
   "source": [
    "batch_results"
   ]
  },
  {
   "cell_type": "code",
   "execution_count": 87,
   "metadata": {},
   "outputs": [],
   "source": [
    "pvals = [val['pvalue'] for k, val in batch_results.items()]\n",
    "tvals = [val['tvalue'] for k, val in batch_results.items()]"
   ]
  },
  {
   "cell_type": "code",
   "execution_count": 88,
   "metadata": {},
   "outputs": [
    {
     "data": {
      "text/plain": [
       "<BarContainer object of 35 artists>"
      ]
     },
     "execution_count": 88,
     "metadata": {},
     "output_type": "execute_result"
    },
    {
     "data": {
      "image/png": "[encoded data removed]",
      "text/plain": [
       "<Figure size 432x288 with 1 Axes>"
      ]
     },
     "metadata": {
      "needs_background": "light"
     },
     "output_type": "display_data"
    }
   ],
   "source": [
    "plt.bar(list(range(1, 36)), pvals)"
   ]
  },
  {
   "cell_type": "code",
   "execution_count": 89,
   "metadata": {},
   "outputs": [
    {
     "data": {
      "text/plain": [
       "<BarContainer object of 35 artists>"
      ]
     },
     "execution_count": 89,
     "metadata": {},
     "output_type": "execute_result"
    },
    {
     "data": {
      "image/png": "[encoded data removed]",
      "text/plain": [
       "<Figure size 432x288 with 1 Axes>"
      ]
     },
     "metadata": {
      "needs_background": "light"
     },
     "output_type": "display_data"
    }
   ],
   "source": [
    "plt.bar(list(range(1, 36)), tvals)"
   ]
  },
  {
   "cell_type": "code",
   "execution_count": 14,
   "metadata": {},
   "outputs": [],
   "source": [
    "norm_lag_return = df.Next_Returns_Daily / df.Sigma\n",
    "next_norm_lag_return = df.Next_Returns_Daily.shift(-1) / df.Sigma\n",
    "reg_df = pd.DataFrame([norm_lag_return, next_norm_lag_return], index=['norm_returns', 'next_norm_returns']).T\n",
    "reg_df.dropna(inplace=True)"
   ]
  },
  {
   "cell_type": "code",
   "execution_count": null,
   "metadata": {},
   "outputs": [],
   "source": []
  },
  {
   "cell_type": "code",
   "execution_count": 34,
   "metadata": {},
   "outputs": [],
   "source": [
    "X = reg_df['norm_returns']\n",
    "y = reg_df['next_norm_returns']\n",
    "X = sm.add_constant(X)"
   ]
  },
  {
   "cell_type": "code",
   "execution_count": 35,
   "metadata": {},
   "outputs": [
    {
     "name": "stdout",
     "output_type": "stream",
     "text": [
      "                            OLS Regression Results                            \n",
      "==============================================================================\n",
      "Dep. Variable:      next_norm_returns   R-squared:                       0.001\n",
      "Model:                            OLS   Adj. R-squared:                  0.001\n",
      "Method:                 Least Squares   F-statistic:                     3.056\n",
      "Date:                Thu, 19 Mar 2020   Prob (F-statistic):             0.0805\n",
      "Time:                        20:35:08   Log-Likelihood:                -9575.6\n",
      "No. Observations:                6496   AIC:                         1.916e+04\n",
      "Df Residuals:                    6494   BIC:                         1.917e+04\n",
      "Df Model:                           1                                         \n",
      "Covariance Type:                  HC3                                         \n",
      "================================================================================\n",
      "                   coef    std err          z      P>|z|      [0.025      0.975]\n",
      "--------------------------------------------------------------------------------\n",
      "const            0.0352      0.013      2.648      0.008       0.009       0.061\n",
      "norm_returns    -0.0330      0.019     -1.748      0.080      -0.070       0.004\n",
      "==============================================================================\n",
      "Omnibus:                     1322.036   Durbin-Watson:                   2.004\n",
      "Prob(Omnibus):                  0.000   Jarque-Bera (JB):             9098.028\n",
      "Skew:                          -0.798   Prob(JB):                         0.00\n",
      "Kurtosis:                       8.574   Cond. No.                         1.06\n",
      "==============================================================================\n",
      "\n",
      "Warnings:\n",
      "[1] Standard Errors are heteroscedasticity robust (HC3)\n"
     ]
    }
   ],
   "source": [
    "model = sm.OLS(y, X)\n",
    "results = model.fit(cov_type='HC3')\n",
    "print(results.summary())"
   ]
  },
  {
   "cell_type": "code",
   "execution_count": 36,
   "metadata": {},
   "outputs": [
    {
     "data": {
      "text/plain": [
       "0.08045755616551362"
      ]
     },
     "execution_count": 36,
     "metadata": {},
     "output_type": "execute_result"
    }
   ],
   "source": [
    "results.pvalues[-1]"
   ]
  },
  {
   "cell_type": "code",
   "execution_count": 37,
   "metadata": {},
   "outputs": [
    {
     "data": {
      "text/plain": [
       "const           2.647612\n",
       "norm_returns   -1.748037\n",
       "dtype: float64"
      ]
     },
     "execution_count": 37,
     "metadata": {},
     "output_type": "execute_result"
    }
   ],
   "source": [
    "results.tvalues[-1]"
   ]
  },
  {
   "cell_type": "code",
   "execution_count": null,
   "metadata": {},
   "outputs": [],
   "source": []
  }
 ],
 "metadata": {
  "kernelspec": {
   "display_name": "Python 3",
   "language": "python",
   "name": "python3"
  },
  "language_info": {
   "codemirror_mode": {
    "name": "ipython",
    "version": 3
   },
   "file_extension": ".py",
   "mimetype": "text/x-python",
   "name": "python",
   "nbconvert_exporter": "python",
   "pygments_lexer": "ipython3",
   "version": "3.6.8"
  }
 },
 "nbformat": 4,
 "nbformat_minor": 4
}
